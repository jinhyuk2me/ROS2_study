{
 "cells": [
  {
   "cell_type": "code",
   "execution_count": null,
   "id": "c78b7bd5-a7c7-47ab-90bc-8c293ea057ad",
   "metadata": {},
   "outputs": [],
   "source": []
  }
 ],
 "metadata": {
  "kernelspec": {
   "display_name": "",
   "name": ""
  },
  "language_info": {
   "name": ""
  }
 },
 "nbformat": 4,
 "nbformat_minor": 5
}
