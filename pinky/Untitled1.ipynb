{
 "cells": [
  {
   "cell_type": "code",
   "execution_count": 2,
   "id": "720a5f48-b1d5-4deb-8c8a-e9d18774e397",
   "metadata": {},
   "outputs": [],
   "source": [
    "from nav2_simple_commander.robot_navigator import BasicNavigator\n",
    "import rclpy\n",
    "\n",
    "rclpy.init()\n",
    "nav = BasicNavigator()"
   ]
  },
  {
   "cell_type": "code",
   "execution_count": 3,
   "id": "8faddbd3-ce1f-4583-a3de-c56e21cd2b11",
   "metadata": {},
   "outputs": [
    {
     "name": "stderr",
     "output_type": "stream",
     "text": [
      "[INFO] [1756110720.100971216] [basic_navigator]: Nav2 is ready for use!\n"
     ]
    }
   ],
   "source": [
    "nav.waitUntilNav2Active()"
   ]
  },
  {
   "cell_type": "code",
   "execution_count": 6,
   "id": "152229d1-a1bd-49ae-9162-cbdc1dfb29ad",
   "metadata": {},
   "outputs": [],
   "source": [
    "import math\n",
    "import tf_transformations\n",
    "\n",
    "def get_quaternion_from_yaw(yaw_degrees):\n",
    "    yaw_radians = math.radians(yaw_degrees)\n",
    "\n",
    "    quaternion = tf_transformations.quaternion_from_euler(0,0,yaw_radians)\n",
    "\n",
    "    return quaternion"
   ]
  },
  {
   "cell_type": "code",
   "execution_count": 8,
   "id": "e312d2e4-98bc-46ff-97ff-ffe700b0256c",
   "metadata": {},
   "outputs": [
    {
     "name": "stderr",
     "output_type": "stream",
     "text": [
      "[INFO] [1756111171.427205282] [basic_navigator]: Publishing Initial Pose\n"
     ]
    }
   ],
   "source": [
    "from geometry_msgs.msg import PoseStamped\n",
    "\n",
    "initial_yaw = 0\n",
    "q = get_quaternion_from_yaw(initial_yaw)\n",
    "\n",
    "initial_pose = PoseStamped()\n",
    "initial_pose.header.stamp = nav.get_clock().now().to_msg()\n",
    "initial_pose.pose.position.x = 0.0\n",
    "initial_pose.pose.position.y = 0.0\n",
    "initial_pose.pose.position.z = 0.0\n",
    "initial_pose.pose.orientation.x = q[0]\n",
    "initial_pose.pose.orientation.y = q[1]\n",
    "initial_pose.pose.orientation.z = q[2]\n",
    "initial_pose.pose.orientation.w = q[3]\n",
    "nav.setInitialPose(initial_pose)"
   ]
  },
  {
   "cell_type": "code",
   "execution_count": 9,
   "id": "90826fdc-7544-43bc-9e59-24a8c14a04e5",
   "metadata": {},
   "outputs": [],
   "source": [
    "sub_amcl = rclpy.create_node('sub_amcl')"
   ]
  },
  {
   "cell_type": "code",
   "execution_count": 10,
   "id": "86d01df2-0558-4941-bda8-3645525de149",
   "metadata": {},
   "outputs": [],
   "source": [
    "def amcl_callback(msg):\n",
    "    print(\"===\")\n",
    "    print(msg.pose.pose.position)\n",
    "    print(msg.pose.pose.orientation)"
   ]
  },
  {
   "cell_type": "code",
   "execution_count": 11,
   "id": "62510f9e-3f2d-43f4-967e-00ca53778cda",
   "metadata": {},
   "outputs": [
    {
     "data": {
      "text/plain": [
       "<rclpy.subscription.Subscription at 0x7e4bdbd26090>"
      ]
     },
     "execution_count": 11,
     "metadata": {},
     "output_type": "execute_result"
    }
   ],
   "source": [
    "from geometry_msgs.msg import PoseWithCovarianceStamped\n",
    "\n",
    "sub_amcl.create_subscription(PoseWithCovarianceStamped, 'amcl_pose', amcl_callback, 10)"
   ]
  },
  {
   "cell_type": "code",
   "execution_count": null,
   "id": "38060923-3d99-4ce6-bff3-390522a95d54",
   "metadata": {},
   "outputs": [],
   "source": [
    "from geometry_msgs.msg import PoseStamped\n",
    "\n",
    "goal_yaw = 180\n",
    "q = get_quaternion_from_yaw(goal_yaw)\n",
    "\n",
    "goal_pose = PoseStamped()\n",
    "goal_pose.header.frame_id = 'map'\n",
    "goal"
   ]
  }
 ],
 "metadata": {
  "kernelspec": {
   "display_name": "Python 3 (ipykernel)",
   "language": "python",
   "name": "python3"
  },
  "language_info": {
   "codemirror_mode": {
    "name": "ipython",
    "version": 3
   },
   "file_extension": ".py",
   "mimetype": "text/x-python",
   "name": "python",
   "nbconvert_exporter": "python",
   "pygments_lexer": "ipython3",
   "version": "3.12.3"
  }
 },
 "nbformat": 4,
 "nbformat_minor": 5
}
