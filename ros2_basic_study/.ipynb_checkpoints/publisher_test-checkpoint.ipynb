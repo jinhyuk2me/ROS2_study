{
 "cells": [
  {
   "cell_type": "code",
   "execution_count": 1,
   "id": "1cc55775-734f-4527-ac72-ef6e07d2fe5f",
   "metadata": {},
   "outputs": [],
   "source": [
    "import rclpy as rp\n",
    "from geometry_msgs.msg import Twist\n",
    "\n",
    "rp.init()\n",
    "test_node = rp.create_node('pub_test')"
   ]
  },
  {
   "cell_type": "code",
   "execution_count": 2,
   "id": "924285cd-d44d-4621-845f-2734ccd35d1a",
   "metadata": {},
   "outputs": [
    {
     "name": "stdout",
     "output_type": "stream",
     "text": [
      "geometry_msgs.msg.Twist(linear=geometry_msgs.msg.Vector3(x=0.0, y=0.0, z=0.0), angular=geometry_msgs.msg.Vector3(x=0.0, y=0.0, z=0.0))\n"
     ]
    }
   ],
   "source": [
    "msg = Twist()\n",
    "print(msg)"
   ]
  },
  {
   "cell_type": "code",
   "execution_count": 9,
   "id": "6a073938-1da5-40c1-b9ce-8867eafd9f22",
   "metadata": {},
   "outputs": [
    {
     "name": "stdout",
     "output_type": "stream",
     "text": [
      "geometry_msgs.msg.Twist(linear=geometry_msgs.msg.Vector3(x=-2.0, y=0.0, z=0.0), angular=geometry_msgs.msg.Vector3(x=0.0, y=0.0, z=0.0))\n"
     ]
    }
   ],
   "source": [
    "msg.linear.x = -2.0\n",
    "print(msg)"
   ]
  },
  {
   "cell_type": "code",
   "execution_count": 10,
   "id": "81581fc9-45d6-43ad-8ba6-7b47e9a6f033",
   "metadata": {},
   "outputs": [],
   "source": [
    "pub = test_node.create_publisher(Twist, \"/turtle1/cmd_vel\", 10)\n",
    "pub.publish(msg)"
   ]
  },
  {
   "cell_type": "code",
   "execution_count": 15,
   "id": "8745c275-a75c-474e-b49a-dd9661876880",
   "metadata": {},
   "outputs": [],
   "source": [
    "cnt = 0\n",
    "\n",
    "def timer_callback():\n",
    "    global cnt\n",
    "\n",
    "    cnt += 1\n",
    "\n",
    "    print(cnt)\n",
    "    pub.publish(msg)\n",
    "\n",
    "    if cnt > 3:\n",
    "        raise Exception(\"Publisher Stop\")"
   ]
  },
  {
   "cell_type": "code",
   "execution_count": 16,
   "id": "d4e0a605-a89f-4cc5-8e39-9d2c76859917",
   "metadata": {},
   "outputs": [
    {
     "name": "stdout",
     "output_type": "stream",
     "text": [
      "1\n",
      "2\n",
      "3\n",
      "4\n"
     ]
    },
    {
     "ename": "Exception",
     "evalue": "Publisher Stop",
     "output_type": "error",
     "traceback": [
      "\u001b[31m---------------------------------------------------------------------------\u001b[39m",
      "\u001b[31mException\u001b[39m                                 Traceback (most recent call last)",
      "\u001b[36mCell\u001b[39m\u001b[36m \u001b[39m\u001b[32mIn[16]\u001b[39m\u001b[32m, line 3\u001b[39m\n\u001b[32m      1\u001b[39m timer_period = \u001b[32m0.1\u001b[39m\n\u001b[32m      2\u001b[39m timer = test_node.create_timer(timer_period, timer_callback)\n\u001b[32m----> \u001b[39m\u001b[32m3\u001b[39m \u001b[43mrp\u001b[49m\u001b[43m.\u001b[49m\u001b[43mspin\u001b[49m\u001b[43m(\u001b[49m\u001b[43mtest_node\u001b[49m\u001b[43m)\u001b[49m\n",
      "\u001b[36mFile \u001b[39m\u001b[32m/opt/ros/jazzy/lib/python3.12/site-packages/rclpy/__init__.py:247\u001b[39m, in \u001b[36mspin\u001b[39m\u001b[34m(node, executor)\u001b[39m\n\u001b[32m    245\u001b[39m     executor.add_node(node)\n\u001b[32m    246\u001b[39m     \u001b[38;5;28;01mwhile\u001b[39;00m executor.context.ok():\n\u001b[32m--> \u001b[39m\u001b[32m247\u001b[39m         \u001b[43mexecutor\u001b[49m\u001b[43m.\u001b[49m\u001b[43mspin_once\u001b[49m\u001b[43m(\u001b[49m\u001b[43m)\u001b[49m\n\u001b[32m    248\u001b[39m \u001b[38;5;28;01mfinally\u001b[39;00m:\n\u001b[32m    249\u001b[39m     executor.remove_node(node)\n",
      "\u001b[36mFile \u001b[39m\u001b[32m/opt/ros/jazzy/lib/python3.12/site-packages/rclpy/executors.py:839\u001b[39m, in \u001b[36mSingleThreadedExecutor.spin_once\u001b[39m\u001b[34m(self, timeout_sec)\u001b[39m\n\u001b[32m    838\u001b[39m \u001b[38;5;28;01mdef\u001b[39;00m\u001b[38;5;250m \u001b[39m\u001b[34mspin_once\u001b[39m(\u001b[38;5;28mself\u001b[39m, timeout_sec: Optional[\u001b[38;5;28mfloat\u001b[39m] = \u001b[38;5;28;01mNone\u001b[39;00m) -> \u001b[38;5;28;01mNone\u001b[39;00m:\n\u001b[32m--> \u001b[39m\u001b[32m839\u001b[39m     \u001b[38;5;28;43mself\u001b[39;49m\u001b[43m.\u001b[49m\u001b[43m_spin_once_impl\u001b[49m\u001b[43m(\u001b[49m\u001b[43mtimeout_sec\u001b[49m\u001b[43m)\u001b[49m\n",
      "\u001b[36mFile \u001b[39m\u001b[32m/opt/ros/jazzy/lib/python3.12/site-packages/rclpy/executors.py:834\u001b[39m, in \u001b[36mSingleThreadedExecutor._spin_once_impl\u001b[39m\u001b[34m(self, timeout_sec, wait_condition)\u001b[39m\n\u001b[32m    832\u001b[39m handler()\n\u001b[32m    833\u001b[39m \u001b[38;5;28;01mif\u001b[39;00m handler.exception() \u001b[38;5;129;01mis\u001b[39;00m \u001b[38;5;129;01mnot\u001b[39;00m \u001b[38;5;28;01mNone\u001b[39;00m:\n\u001b[32m--> \u001b[39m\u001b[32m834\u001b[39m     \u001b[38;5;28;01mraise\u001b[39;00m handler.exception()\n\u001b[32m    836\u001b[39m handler.result()\n",
      "\u001b[36mFile \u001b[39m\u001b[32m/opt/ros/jazzy/lib/python3.12/site-packages/rclpy/task.py:269\u001b[39m, in \u001b[36mTask.__call__\u001b[39m\u001b[34m(self)\u001b[39m\n\u001b[32m    266\u001b[39m \u001b[38;5;28;01mif\u001b[39;00m inspect.iscoroutine(\u001b[38;5;28mself\u001b[39m._handler):\n\u001b[32m    267\u001b[39m     \u001b[38;5;66;03m# Execute a coroutine\u001b[39;00m\n\u001b[32m    268\u001b[39m     \u001b[38;5;28;01mtry\u001b[39;00m:\n\u001b[32m--> \u001b[39m\u001b[32m269\u001b[39m         \u001b[38;5;28;43mself\u001b[39;49m\u001b[43m.\u001b[49m\u001b[43m_handler\u001b[49m\u001b[43m.\u001b[49m\u001b[43msend\u001b[49m\u001b[43m(\u001b[49m\u001b[38;5;28;43;01mNone\u001b[39;49;00m\u001b[43m)\u001b[49m\n\u001b[32m    270\u001b[39m     \u001b[38;5;28;01mexcept\u001b[39;00m \u001b[38;5;167;01mStopIteration\u001b[39;00m \u001b[38;5;28;01mas\u001b[39;00m e:\n\u001b[32m    271\u001b[39m         \u001b[38;5;66;03m# The coroutine finished; store the result\u001b[39;00m\n\u001b[32m    272\u001b[39m         \u001b[38;5;28mself\u001b[39m.set_result(e.value)\n",
      "\u001b[36mFile \u001b[39m\u001b[32m/opt/ros/jazzy/lib/python3.12/site-packages/rclpy/executors.py:518\u001b[39m, in \u001b[36mExecutor._make_handler.<locals>.handler\u001b[39m\u001b[34m(entity, gc, is_shutdown, work_tracker)\u001b[39m\n\u001b[32m    516\u001b[39m \u001b[38;5;28;01mtry\u001b[39;00m:\n\u001b[32m    517\u001b[39m     \u001b[38;5;28;01mif\u001b[39;00m call_coroutine \u001b[38;5;129;01mis\u001b[39;00m \u001b[38;5;129;01mnot\u001b[39;00m \u001b[38;5;28;01mNone\u001b[39;00m:\n\u001b[32m--> \u001b[39m\u001b[32m518\u001b[39m         \u001b[38;5;28;01mawait\u001b[39;00m call_coroutine()\n\u001b[32m    519\u001b[39m \u001b[38;5;28;01mfinally\u001b[39;00m:\n\u001b[32m    520\u001b[39m     entity.callback_group.ending_execution(entity)\n",
      "\u001b[36mFile \u001b[39m\u001b[32m/opt/ros/jazzy/lib/python3.12/site-packages/rclpy/executors.py:382\u001b[39m, in \u001b[36mExecutor._take_timer.<locals>._execute\u001b[39m\u001b[34m()\u001b[39m\n\u001b[32m    381\u001b[39m \u001b[38;5;28;01masync\u001b[39;00m \u001b[38;5;28;01mdef\u001b[39;00m\u001b[38;5;250m \u001b[39m\u001b[34m_execute\u001b[39m():\n\u001b[32m--> \u001b[39m\u001b[32m382\u001b[39m     \u001b[38;5;28;01mawait\u001b[39;00m await_or_execute(tmr.callback)\n",
      "\u001b[36mFile \u001b[39m\u001b[32m/opt/ros/jazzy/lib/python3.12/site-packages/rclpy/executors.py:111\u001b[39m, in \u001b[36mawait_or_execute\u001b[39m\u001b[34m(callback, *args)\u001b[39m\n\u001b[32m    108\u001b[39m     \u001b[38;5;28;01mreturn\u001b[39;00m \u001b[38;5;28;01mawait\u001b[39;00m callback(*args)\n\u001b[32m    109\u001b[39m \u001b[38;5;28;01melse\u001b[39;00m:\n\u001b[32m    110\u001b[39m     \u001b[38;5;66;03m# Call a normal function\u001b[39;00m\n\u001b[32m--> \u001b[39m\u001b[32m111\u001b[39m     \u001b[38;5;28;01mreturn\u001b[39;00m \u001b[43mcallback\u001b[49m\u001b[43m(\u001b[49m\u001b[43m*\u001b[49m\u001b[43margs\u001b[49m\u001b[43m)\u001b[49m\n",
      "\u001b[36mCell\u001b[39m\u001b[36m \u001b[39m\u001b[32mIn[15]\u001b[39m\u001b[32m, line 12\u001b[39m, in \u001b[36mtimer_callback\u001b[39m\u001b[34m()\u001b[39m\n\u001b[32m      9\u001b[39m pub.publish(msg)\n\u001b[32m     11\u001b[39m \u001b[38;5;28;01mif\u001b[39;00m cnt > \u001b[32m3\u001b[39m:\n\u001b[32m---> \u001b[39m\u001b[32m12\u001b[39m     \u001b[38;5;28;01mraise\u001b[39;00m \u001b[38;5;167;01mException\u001b[39;00m(\u001b[33m\"\u001b[39m\u001b[33mPublisher Stop\u001b[39m\u001b[33m\"\u001b[39m)\n",
      "\u001b[31mException\u001b[39m: Publisher Stop"
     ]
    }
   ],
   "source": [
    "timer_period = 0.1\n",
    "timer = test_node.create_timer(timer_period, timer_callback)\n",
    "rp.spin(test_node)"
   ]
  },
  {
   "cell_type": "code",
   "execution_count": 17,
   "id": "e39d7c77-1766-4975-9c74-7f3545031f5f",
   "metadata": {},
   "outputs": [],
   "source": [
    "test_node.destroy_node()"
   ]
  },
  {
   "cell_type": "code",
   "execution_count": null,
   "id": "9f65f8dc-86f1-43ca-b9e9-a10e96127671",
   "metadata": {},
   "outputs": [],
   "source": []
  }
 ],
 "metadata": {
  "kernelspec": {
   "display_name": "ros",
   "language": "python",
   "name": "ros"
  },
  "language_info": {
   "codemirror_mode": {
    "name": "ipython",
    "version": 3
   },
   "file_extension": ".py",
   "mimetype": "text/x-python",
   "name": "python",
   "nbconvert_exporter": "python",
   "pygments_lexer": "ipython3",
   "version": "3.12.3"
  }
 },
 "nbformat": 4,
 "nbformat_minor": 5
}
