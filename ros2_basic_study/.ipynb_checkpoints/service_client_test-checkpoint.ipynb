{
 "cells": [
  {
   "cell_type": "code",
   "execution_count": 1,
   "id": "2be46d32-a850-418b-8520-963cfa0585b0",
   "metadata": {},
   "outputs": [],
   "source": [
    "import rclpy as rp\n",
    "from turtlesim.srv import TeleportAbsolute\n",
    "\n",
    "rp.init()\n",
    "test_node = rp.create_node(\"client_test\")"
   ]
  },
  {
   "cell_type": "code",
   "execution_count": 5,
   "id": "8d9008a4-92e2-4019-8e15-baa08e9dd84f",
   "metadata": {},
   "outputs": [],
   "source": [
    "service_name = \"/turtle1/teleport_absolute\"\n",
    "cli = test_node.create_client(TeleportAbsolute, service_name)"
   ]
  },
  {
   "cell_type": "code",
   "execution_count": 6,
   "id": "935eecbd-276d-4872-a4d4-417a8d0cd51c",
   "metadata": {},
   "outputs": [
    {
     "data": {
      "text/plain": [
       "turtlesim.srv.TeleportAbsolute_Request(x=0.0, y=0.0, theta=0.0)"
      ]
     },
     "execution_count": 6,
     "metadata": {},
     "output_type": "execute_result"
    }
   ],
   "source": [
    "req = TeleportAbsolute.Request()\n",
    "req"
   ]
  },
  {
   "cell_type": "code",
   "execution_count": 14,
   "id": "95dffd0a-7f70-48f2-b213-b98123f86bde",
   "metadata": {},
   "outputs": [
    {
     "data": {
      "text/plain": [
       "turtlesim.srv.TeleportAbsolute_Request(x=3.0, y=1.0, theta=3.14)"
      ]
     },
     "execution_count": 14,
     "metadata": {},
     "output_type": "execute_result"
    }
   ],
   "source": [
    "req.x = 3.\n",
    "req.y = 1.\n",
    "req.theta = 3.14\n",
    "\n",
    "req"
   ]
  },
  {
   "cell_type": "code",
   "execution_count": 15,
   "id": "8964bdbc-10c7-49af-9e39-5c858fa7b494",
   "metadata": {},
   "outputs": [],
   "source": [
    "cli.call_async(req)\n",
    "rp.spin_once(test_node)"
   ]
  },
  {
   "cell_type": "code",
   "execution_count": 16,
   "id": "5a0b4716-2f26-4ea8-856d-2e415efa340e",
   "metadata": {},
   "outputs": [],
   "source": [
    "req.y = float(9)\n",
    "\n",
    "while not cli.wait_for_service(timeout_sec=1.0):\n",
    "    print(\"Waiting for service\")\n",
    "\n",
    "cli.call_async(req)\n",
    "rp.spin_once(test_node)"
   ]
  },
  {
   "cell_type": "code",
   "execution_count": 17,
   "id": "96f4417f-94b6-49b7-b2a5-7b0bda00da9c",
   "metadata": {},
   "outputs": [
    {
     "name": "stdout",
     "output_type": "stream",
     "text": [
      "False None\n",
      "False None\n",
      "False None\n",
      "False None\n",
      "False None\n",
      "False None\n",
      "False None\n",
      "False None\n",
      "False None\n",
      "False None\n",
      "False None\n",
      "False None\n",
      "False None\n",
      "True turtlesim.srv.TeleportAbsolute_Response()\n"
     ]
    }
   ],
   "source": [
    "req.x = float(9)\n",
    "\n",
    "future = cli.call_async(req)\n",
    "\n",
    "while not future.done():\n",
    "    rp.spin_once(test_node)\n",
    "    print(future.done(), future.result())"
   ]
  },
  {
   "cell_type": "code",
   "execution_count": null,
   "id": "d9d7789a-8b3e-4da6-9299-c02ace2def5e",
   "metadata": {},
   "outputs": [],
   "source": []
  }
 ],
 "metadata": {
  "kernelspec": {
   "display_name": "ros",
   "language": "python",
   "name": "ros"
  },
  "language_info": {
   "codemirror_mode": {
    "name": "ipython",
    "version": 3
   },
   "file_extension": ".py",
   "mimetype": "text/x-python",
   "name": "python",
   "nbconvert_exporter": "python",
   "pygments_lexer": "ipython3",
   "version": "3.12.3"
  }
 },
 "nbformat": 4,
 "nbformat_minor": 5
}
