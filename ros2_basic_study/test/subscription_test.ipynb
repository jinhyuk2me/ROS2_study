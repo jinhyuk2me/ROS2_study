{
 "cells": [
  {
   "cell_type": "code",
   "execution_count": 1,
   "id": "b5228651-e8c9-4caf-8f79-a7ec33182e52",
   "metadata": {},
   "outputs": [],
   "source": [
    "import rclpy as rp\n",
    "from turtlesim.msg import Pose"
   ]
  },
  {
   "cell_type": "code",
   "execution_count": 2,
   "id": "10bebb6d-deb0-4b3f-8226-9c5454771dc1",
   "metadata": {},
   "outputs": [],
   "source": [
    "rp.init()\n",
    "test_node = rp.create_node('sub_test')"
   ]
  },
  {
   "cell_type": "code",
   "execution_count": 4,
   "id": "f692abec-0339-48b7-912f-783c788b7379",
   "metadata": {},
   "outputs": [],
   "source": [
    "cnt = 0\n",
    "\n",
    "def callback(data):\n",
    "    global cnt\n",
    "    cnt += 1\n",
    "    print('>', cnt, \" -> X : \", data.x, \" Y : \", data.y)\n",
    "    if cnt>3:\n",
    "        raise Exception(\"Subscription stop\")"
   ]
  },
  {
   "cell_type": "code",
   "execution_count": 5,
   "id": "d746cb44-d454-43f1-9dd8-64d8d25a500e",
   "metadata": {},
   "outputs": [
    {
     "data": {
      "text/plain": [
       "<rclpy.subscription.Subscription at 0x7101c4140620>"
      ]
     },
     "execution_count": 5,
     "metadata": {},
     "output_type": "execute_result"
    }
   ],
   "source": [
    "test_node.create_subscription(Pose, \"/turtle1/pose\", callback, 10)"
   ]
  },
  {
   "cell_type": "code",
   "execution_count": 6,
   "id": "2b35d426-c9f8-4232-bc7d-1b846ef8327e",
   "metadata": {},
   "outputs": [
    {
     "name": "stdout",
     "output_type": "stream",
     "text": [
      "> 1  -> X :  2.0704591274261475  Y :  8.415519714355469\n"
     ]
    }
   ],
   "source": [
    "rp.spin_once(test_node)"
   ]
  },
  {
   "cell_type": "code",
   "execution_count": 7,
   "id": "be9eb2ad-c6cd-450b-846a-f882cc64b8b6",
   "metadata": {},
   "outputs": [
    {
     "name": "stdout",
     "output_type": "stream",
     "text": [
      "> 2  -> X :  2.0704591274261475  Y :  8.415519714355469\n",
      "> 3  -> X :  2.0704591274261475  Y :  8.415519714355469\n",
      "> 4  -> X :  2.0704591274261475  Y :  8.415519714355469\n"
     ]
    },
    {
     "ename": "Exception",
     "evalue": "Subscription stop",
     "output_type": "error",
     "traceback": [
      "\u001b[31m---------------------------------------------------------------------------\u001b[39m",
      "\u001b[31mException\u001b[39m                                 Traceback (most recent call last)",
      "\u001b[36mCell\u001b[39m\u001b[36m \u001b[39m\u001b[32mIn[7]\u001b[39m\u001b[32m, line 1\u001b[39m\n\u001b[32m----> \u001b[39m\u001b[32m1\u001b[39m \u001b[43mrp\u001b[49m\u001b[43m.\u001b[49m\u001b[43mspin\u001b[49m\u001b[43m(\u001b[49m\u001b[43mtest_node\u001b[49m\u001b[43m)\u001b[49m\n",
      "\u001b[36mFile \u001b[39m\u001b[32m/opt/ros/jazzy/lib/python3.12/site-packages/rclpy/__init__.py:247\u001b[39m, in \u001b[36mspin\u001b[39m\u001b[34m(node, executor)\u001b[39m\n\u001b[32m    245\u001b[39m     executor.add_node(node)\n\u001b[32m    246\u001b[39m     \u001b[38;5;28;01mwhile\u001b[39;00m executor.context.ok():\n\u001b[32m--> \u001b[39m\u001b[32m247\u001b[39m         \u001b[43mexecutor\u001b[49m\u001b[43m.\u001b[49m\u001b[43mspin_once\u001b[49m\u001b[43m(\u001b[49m\u001b[43m)\u001b[49m\n\u001b[32m    248\u001b[39m \u001b[38;5;28;01mfinally\u001b[39;00m:\n\u001b[32m    249\u001b[39m     executor.remove_node(node)\n",
      "\u001b[36mFile \u001b[39m\u001b[32m/opt/ros/jazzy/lib/python3.12/site-packages/rclpy/executors.py:839\u001b[39m, in \u001b[36mSingleThreadedExecutor.spin_once\u001b[39m\u001b[34m(self, timeout_sec)\u001b[39m\n\u001b[32m    838\u001b[39m \u001b[38;5;28;01mdef\u001b[39;00m\u001b[38;5;250m \u001b[39m\u001b[34mspin_once\u001b[39m(\u001b[38;5;28mself\u001b[39m, timeout_sec: Optional[\u001b[38;5;28mfloat\u001b[39m] = \u001b[38;5;28;01mNone\u001b[39;00m) -> \u001b[38;5;28;01mNone\u001b[39;00m:\n\u001b[32m--> \u001b[39m\u001b[32m839\u001b[39m     \u001b[38;5;28;43mself\u001b[39;49m\u001b[43m.\u001b[49m\u001b[43m_spin_once_impl\u001b[49m\u001b[43m(\u001b[49m\u001b[43mtimeout_sec\u001b[49m\u001b[43m)\u001b[49m\n",
      "\u001b[36mFile \u001b[39m\u001b[32m/opt/ros/jazzy/lib/python3.12/site-packages/rclpy/executors.py:834\u001b[39m, in \u001b[36mSingleThreadedExecutor._spin_once_impl\u001b[39m\u001b[34m(self, timeout_sec, wait_condition)\u001b[39m\n\u001b[32m    832\u001b[39m handler()\n\u001b[32m    833\u001b[39m \u001b[38;5;28;01mif\u001b[39;00m handler.exception() \u001b[38;5;129;01mis\u001b[39;00m \u001b[38;5;129;01mnot\u001b[39;00m \u001b[38;5;28;01mNone\u001b[39;00m:\n\u001b[32m--> \u001b[39m\u001b[32m834\u001b[39m     \u001b[38;5;28;01mraise\u001b[39;00m handler.exception()\n\u001b[32m    836\u001b[39m handler.result()\n",
      "\u001b[36mFile \u001b[39m\u001b[32m/opt/ros/jazzy/lib/python3.12/site-packages/rclpy/task.py:269\u001b[39m, in \u001b[36mTask.__call__\u001b[39m\u001b[34m(self)\u001b[39m\n\u001b[32m    266\u001b[39m \u001b[38;5;28;01mif\u001b[39;00m inspect.iscoroutine(\u001b[38;5;28mself\u001b[39m._handler):\n\u001b[32m    267\u001b[39m     \u001b[38;5;66;03m# Execute a coroutine\u001b[39;00m\n\u001b[32m    268\u001b[39m     \u001b[38;5;28;01mtry\u001b[39;00m:\n\u001b[32m--> \u001b[39m\u001b[32m269\u001b[39m         \u001b[38;5;28;43mself\u001b[39;49m\u001b[43m.\u001b[49m\u001b[43m_handler\u001b[49m\u001b[43m.\u001b[49m\u001b[43msend\u001b[49m\u001b[43m(\u001b[49m\u001b[38;5;28;43;01mNone\u001b[39;49;00m\u001b[43m)\u001b[49m\n\u001b[32m    270\u001b[39m     \u001b[38;5;28;01mexcept\u001b[39;00m \u001b[38;5;167;01mStopIteration\u001b[39;00m \u001b[38;5;28;01mas\u001b[39;00m e:\n\u001b[32m    271\u001b[39m         \u001b[38;5;66;03m# The coroutine finished; store the result\u001b[39;00m\n\u001b[32m    272\u001b[39m         \u001b[38;5;28mself\u001b[39m.set_result(e.value)\n",
      "\u001b[36mFile \u001b[39m\u001b[32m/opt/ros/jazzy/lib/python3.12/site-packages/rclpy/executors.py:518\u001b[39m, in \u001b[36mExecutor._make_handler.<locals>.handler\u001b[39m\u001b[34m(entity, gc, is_shutdown, work_tracker)\u001b[39m\n\u001b[32m    516\u001b[39m \u001b[38;5;28;01mtry\u001b[39;00m:\n\u001b[32m    517\u001b[39m     \u001b[38;5;28;01mif\u001b[39;00m call_coroutine \u001b[38;5;129;01mis\u001b[39;00m \u001b[38;5;129;01mnot\u001b[39;00m \u001b[38;5;28;01mNone\u001b[39;00m:\n\u001b[32m--> \u001b[39m\u001b[32m518\u001b[39m         \u001b[38;5;28;01mawait\u001b[39;00m call_coroutine()\n\u001b[32m    519\u001b[39m \u001b[38;5;28;01mfinally\u001b[39;00m:\n\u001b[32m    520\u001b[39m     entity.callback_group.ending_execution(entity)\n",
      "\u001b[36mFile \u001b[39m\u001b[32m/opt/ros/jazzy/lib/python3.12/site-packages/rclpy/executors.py:406\u001b[39m, in \u001b[36mExecutor._take_subscription.<locals>._execute\u001b[39m\u001b[34m()\u001b[39m\n\u001b[32m    405\u001b[39m \u001b[38;5;28;01masync\u001b[39;00m \u001b[38;5;28;01mdef\u001b[39;00m\u001b[38;5;250m \u001b[39m\u001b[34m_execute\u001b[39m():\n\u001b[32m--> \u001b[39m\u001b[32m406\u001b[39m     \u001b[38;5;28;01mawait\u001b[39;00m await_or_execute(sub.callback, *msg_tuple)\n",
      "\u001b[36mFile \u001b[39m\u001b[32m/opt/ros/jazzy/lib/python3.12/site-packages/rclpy/executors.py:111\u001b[39m, in \u001b[36mawait_or_execute\u001b[39m\u001b[34m(callback, *args)\u001b[39m\n\u001b[32m    108\u001b[39m     \u001b[38;5;28;01mreturn\u001b[39;00m \u001b[38;5;28;01mawait\u001b[39;00m callback(*args)\n\u001b[32m    109\u001b[39m \u001b[38;5;28;01melse\u001b[39;00m:\n\u001b[32m    110\u001b[39m     \u001b[38;5;66;03m# Call a normal function\u001b[39;00m\n\u001b[32m--> \u001b[39m\u001b[32m111\u001b[39m     \u001b[38;5;28;01mreturn\u001b[39;00m \u001b[43mcallback\u001b[49m\u001b[43m(\u001b[49m\u001b[43m*\u001b[49m\u001b[43margs\u001b[49m\u001b[43m)\u001b[49m\n",
      "\u001b[36mCell\u001b[39m\u001b[36m \u001b[39m\u001b[32mIn[4]\u001b[39m\u001b[32m, line 8\u001b[39m, in \u001b[36mcallback\u001b[39m\u001b[34m(data)\u001b[39m\n\u001b[32m      6\u001b[39m \u001b[38;5;28mprint\u001b[39m(\u001b[33m'\u001b[39m\u001b[33m>\u001b[39m\u001b[33m'\u001b[39m, cnt, \u001b[33m\"\u001b[39m\u001b[33m -> X : \u001b[39m\u001b[33m\"\u001b[39m, data.x, \u001b[33m\"\u001b[39m\u001b[33m Y : \u001b[39m\u001b[33m\"\u001b[39m, data.y)\n\u001b[32m      7\u001b[39m \u001b[38;5;28;01mif\u001b[39;00m cnt>\u001b[32m3\u001b[39m:\n\u001b[32m----> \u001b[39m\u001b[32m8\u001b[39m     \u001b[38;5;28;01mraise\u001b[39;00m \u001b[38;5;167;01mException\u001b[39;00m(\u001b[33m\"\u001b[39m\u001b[33mSubscription stop\u001b[39m\u001b[33m\"\u001b[39m)\n",
      "\u001b[31mException\u001b[39m: Subscription stop"
     ]
    }
   ],
   "source": [
    "rp.spin(test_node)"
   ]
  },
  {
   "cell_type": "code",
   "execution_count": null,
   "id": "1d9effa7-2645-4508-823f-ecf9819940f7",
   "metadata": {},
   "outputs": [],
   "source": []
  }
 ],
 "metadata": {
  "kernelspec": {
   "display_name": "ros",
   "language": "python",
   "name": "ros"
  },
  "language_info": {
   "codemirror_mode": {
    "name": "ipython",
    "version": 3
   },
   "file_extension": ".py",
   "mimetype": "text/x-python",
   "name": "python",
   "nbconvert_exporter": "python",
   "pygments_lexer": "ipython3",
   "version": "3.12.3"
  }
 },
 "nbformat": 4,
 "nbformat_minor": 5
}
